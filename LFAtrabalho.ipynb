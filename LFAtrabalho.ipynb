{
  "nbformat": 4,
  "nbformat_minor": 0,
  "metadata": {
    "colab": {
      "name": "LFAtrabalho.ipynb",
      "provenance": [],
      "collapsed_sections": [],
      "authorship_tag": "ABX9TyNqHf7pp2z3i5LOLQJVTgPf",
      "include_colab_link": true
    },
    "kernelspec": {
      "name": "python3",
      "display_name": "Python 3"
    },
    "language_info": {
      "name": "python"
    }
  },
  "cells": [
    {
      "cell_type": "markdown",
      "metadata": {
        "id": "view-in-github",
        "colab_type": "text"
      },
      "source": [
        "<a href=\"https://colab.research.google.com/github/GugaNight/LFA/blob/main/LFAtrabalho.ipynb\" target=\"_parent\"><img src=\"https://colab.research.google.com/assets/colab-badge.svg\" alt=\"Open In Colab\"/></a>"
      ]
    },
    {
      "cell_type": "code",
      "metadata": {
        "id": "t_KftX_FNwul"
      },
      "source": [
        "class Automato:\n",
        "    def __init__(self, n_estados):\n",
        "      \n",
        "#        self.transicao = []\n",
        "#        for i in range(n_estados):\n",
        "#           self.transicao.append(i[n_estados])\n",
        "\n",
        "        self.transicao = [{} for i in range(n_estados)]\n",
        "        self.aceitar_estado = [False] * n_estados\n",
        "\n",
        "    def cadastrar(self, estado_atual, valor, prox_estado):\n",
        "        self.transicao[estado_atual][valor] = prox_estado\n",
        "\n",
        "    def cadastro_estado_final(self, estado):\n",
        "        self.aceitar_estado[estado] = True\n",
        "\n",
        "    def aceitar(self, teclado):\n",
        "        estado = 0\n",
        "        try:\n",
        "            for valor in teclado:             \n",
        "                estado = self.transicao[estado][valor]\n",
        "            return self.aceitar_estado[estado]\n",
        "        except :\n",
        "             False"
      ],
      "execution_count": 85,
      "outputs": []
    },
    {
      "cell_type": "code",
      "metadata": {
        "colab": {
          "base_uri": "https://localhost:8080/"
        },
        "id": "PdbTO09W8Ti3",
        "outputId": "58e8cf64-39b7-41d3-887a-da267d7293e5"
      },
      "source": [
        "automato = Automato(5) \n",
        "\n",
        "#transições\n",
        "automato.cadastrar(0, 'a', 1)\n",
        "automato.cadastrar(0, 'b', 2)\n",
        "automato.cadastrar(1, 'a', 1)\n",
        "automato.cadastrar(1, 'b', 3)\n",
        "automato.cadastrar(2, 'b', 2)\n",
        "automato.cadastrar(2, 'a', 4)\n",
        "automato.cadastrar(3, 'b', 3)\n",
        "automato.cadastrar(3, 'a', 1)\n",
        "automato.cadastrar(4, 'a', 4)\n",
        "automato.cadastrar(4, 'b', 2)\n",
        "\n",
        "#estado de aceite\n",
        "automato.cadastro_estado_final(3) \n",
        "automato.cadastro_estado_final(4)\n",
        "\n",
        "#teste\n",
        "print(automato.aceitar('ab')) \n",
        "print(automato.aceitar('ba')) \n",
        "print(automato.aceitar('aa')) \n",
        "print(automato.aceitar('aba')) \n",
        "print(automato.aceitar('bb'))\n",
        "print(automato.aceitar('bab'))\n",
        "print(automato.aceitar('bbaaa'))\n"
      ],
      "execution_count": 86,
      "outputs": [
        {
          "output_type": "stream",
          "text": [
            "True\n",
            "True\n",
            "False\n",
            "False\n",
            "False\n",
            "False\n",
            "True\n"
          ],
          "name": "stdout"
        }
      ]
    }
  ]
}